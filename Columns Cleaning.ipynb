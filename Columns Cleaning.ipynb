{
 "cells": [
  {
   "cell_type": "code",
   "execution_count": 1,
   "metadata": {},
   "outputs": [],
   "source": [
    "import pandas as pd\n",
    "\n",
    "# Load the Excel file\n",
    "file_path = 'August-2024-Primary-Rota123.csv'\n",
    "df = pd.read_csv(file_path)"
   ]
  },
  {
   "cell_type": "code",
   "execution_count": 2,
   "metadata": {},
   "outputs": [
    {
     "data": {
      "text/html": [
       "<div>\n",
       "<style scoped>\n",
       "    .dataframe tbody tr th:only-of-type {\n",
       "        vertical-align: middle;\n",
       "    }\n",
       "\n",
       "    .dataframe tbody tr th {\n",
       "        vertical-align: top;\n",
       "    }\n",
       "\n",
       "    .dataframe thead th {\n",
       "        text-align: right;\n",
       "    }\n",
       "</style>\n",
       "<table border=\"1\" class=\"dataframe\">\n",
       "  <thead>\n",
       "    <tr style=\"text-align: right;\">\n",
       "      <th></th>\n",
       "      <th>Name of Patient</th>\n",
       "      <th>Month</th>\n",
       "      <th>Caregiver Name</th>\n",
       "      <th>Attendance Count</th>\n",
       "    </tr>\n",
       "  </thead>\n",
       "  <tbody>\n",
       "    <tr>\n",
       "      <th>0</th>\n",
       "      <td>Aarti/Hasmati devan</td>\n",
       "      <td>8</td>\n",
       "      <td>Crg Felistas Wambui - 1000, Crg Naomi Paul - 8...</td>\n",
       "      <td>[1, 3, 27]</td>\n",
       "    </tr>\n",
       "    <tr>\n",
       "      <th>1</th>\n",
       "      <td>Abuod Abdalla/Dalila</td>\n",
       "      <td>8</td>\n",
       "      <td>Crg Nora Mukuhi Kimani - 1150, Crg Zilda Wakes...</td>\n",
       "      <td>[2, 5, 2]</td>\n",
       "    </tr>\n",
       "    <tr>\n",
       "      <th>2</th>\n",
       "      <td>Amrat Shah/Niraj Shah</td>\n",
       "      <td>8</td>\n",
       "      <td>Crg Sylvier Mercy - 800, Crg Stella Awonda - 800</td>\n",
       "      <td>[19, 14]</td>\n",
       "    </tr>\n",
       "    <tr>\n",
       "      <th>3</th>\n",
       "      <td>Amritaben</td>\n",
       "      <td>8</td>\n",
       "      <td>Crg Elizabeth Mwihaki - 950, Crg Emmadiana Mai...</td>\n",
       "      <td>[9, 5, 22, 26]</td>\n",
       "    </tr>\n",
       "    <tr>\n",
       "      <th>4</th>\n",
       "      <td>Arama lifestyle</td>\n",
       "      <td>8</td>\n",
       "      <td>Crg Venalize Wakhungu - 1000, Crg Lorna Kairu ...</td>\n",
       "      <td>[25, 28, 1, 27, 2]</td>\n",
       "    </tr>\n",
       "  </tbody>\n",
       "</table>\n",
       "</div>"
      ],
      "text/plain": [
       "         Name of Patient  Month  \\\n",
       "0    Aarti/Hasmati devan      8   \n",
       "1   Abuod Abdalla/Dalila      8   \n",
       "2  Amrat Shah/Niraj Shah      8   \n",
       "3              Amritaben      8   \n",
       "4        Arama lifestyle      8   \n",
       "\n",
       "                                      Caregiver Name    Attendance Count  \n",
       "0  Crg Felistas Wambui - 1000, Crg Naomi Paul - 8...          [1, 3, 27]  \n",
       "1  Crg Nora Mukuhi Kimani - 1150, Crg Zilda Wakes...           [2, 5, 2]  \n",
       "2   Crg Sylvier Mercy - 800, Crg Stella Awonda - 800            [19, 14]  \n",
       "3  Crg Elizabeth Mwihaki - 950, Crg Emmadiana Mai...      [9, 5, 22, 26]  \n",
       "4  Crg Venalize Wakhungu - 1000, Crg Lorna Kairu ...  [25, 28, 1, 27, 2]  "
      ]
     },
     "execution_count": 2,
     "metadata": {},
     "output_type": "execute_result"
    }
   ],
   "source": [
    "df.head()"
   ]
  },
  {
   "cell_type": "code",
   "execution_count": 3,
   "metadata": {},
   "outputs": [
    {
     "data": {
      "text/html": [
       "<div>\n",
       "<style scoped>\n",
       "    .dataframe tbody tr th:only-of-type {\n",
       "        vertical-align: middle;\n",
       "    }\n",
       "\n",
       "    .dataframe tbody tr th {\n",
       "        vertical-align: top;\n",
       "    }\n",
       "\n",
       "    .dataframe thead th {\n",
       "        text-align: right;\n",
       "    }\n",
       "</style>\n",
       "<table border=\"1\" class=\"dataframe\">\n",
       "  <thead>\n",
       "    <tr style=\"text-align: right;\">\n",
       "      <th></th>\n",
       "      <th>Name of Patient</th>\n",
       "      <th>Month</th>\n",
       "      <th>Caregiver Name</th>\n",
       "      <th>Attendance Count</th>\n",
       "    </tr>\n",
       "  </thead>\n",
       "  <tbody>\n",
       "    <tr>\n",
       "      <th>0</th>\n",
       "      <td>Aarti/Hasmati devan</td>\n",
       "      <td>August - 2023</td>\n",
       "      <td>Felistas Wambui , Naomi Paul , Victoria Tijara</td>\n",
       "      <td>[1, 3, 27]</td>\n",
       "    </tr>\n",
       "    <tr>\n",
       "      <th>1</th>\n",
       "      <td>Abuod Abdalla/Dalila</td>\n",
       "      <td>August - 2023</td>\n",
       "      <td>Nora Mukuhi Kimani , Zilda Wakesho , Jacquelyn...</td>\n",
       "      <td>[2, 5, 2]</td>\n",
       "    </tr>\n",
       "    <tr>\n",
       "      <th>2</th>\n",
       "      <td>Amrat Shah/Niraj Shah</td>\n",
       "      <td>August - 2023</td>\n",
       "      <td>Sylvier Mercy , Stella Awonda</td>\n",
       "      <td>[19, 14]</td>\n",
       "    </tr>\n",
       "    <tr>\n",
       "      <th>3</th>\n",
       "      <td>Amritaben</td>\n",
       "      <td>August - 2023</td>\n",
       "      <td>Elizabeth Mwihaki , Emmadiana Maina , Esther N...</td>\n",
       "      <td>[9, 5, 22, 26]</td>\n",
       "    </tr>\n",
       "    <tr>\n",
       "      <th>4</th>\n",
       "      <td>Arama lifestyle</td>\n",
       "      <td>August - 2023</td>\n",
       "      <td>Venalize Wakhungu , Lorna Kairu , Laura Vuguts...</td>\n",
       "      <td>[25, 28, 1, 27, 2]</td>\n",
       "    </tr>\n",
       "  </tbody>\n",
       "</table>\n",
       "</div>"
      ],
      "text/plain": [
       "         Name of Patient          Month  \\\n",
       "0    Aarti/Hasmati devan  August - 2023   \n",
       "1   Abuod Abdalla/Dalila  August - 2023   \n",
       "2  Amrat Shah/Niraj Shah  August - 2023   \n",
       "3              Amritaben  August - 2023   \n",
       "4        Arama lifestyle  August - 2023   \n",
       "\n",
       "                                      Caregiver Name    Attendance Count  \n",
       "0     Felistas Wambui , Naomi Paul , Victoria Tijara          [1, 3, 27]  \n",
       "1  Nora Mukuhi Kimani , Zilda Wakesho , Jacquelyn...           [2, 5, 2]  \n",
       "2                      Sylvier Mercy , Stella Awonda            [19, 14]  \n",
       "3  Elizabeth Mwihaki , Emmadiana Maina , Esther N...      [9, 5, 22, 26]  \n",
       "4  Venalize Wakhungu , Lorna Kairu , Laura Vuguts...  [25, 28, 1, 27, 2]  "
      ]
     },
     "execution_count": 3,
     "metadata": {},
     "output_type": "execute_result"
    }
   ],
   "source": [
    "import re\n",
    "from datetime import datetime\n",
    "\n",
    "# Function to clean \"Crg\", numbers, and hyphens from Caregiver Name\n",
    "def clean_caregiver_name(name):\n",
    "    # Remove 'Crg', numbers, and hyphens\n",
    "    cleaned_name = re.sub(r'(Crg\\s*|\\d+|-)', '', name)\n",
    "    # Remove any extra spaces created during the process\n",
    "    return ' '.join(cleaned_name.split())\n",
    "\n",
    "# Apply the cleaning function to the \"Caregiver Name\" column\n",
    "df['Caregiver Name'] = df['Caregiver Name'].apply(clean_caregiver_name)\n",
    "\n",
    "# Convert month numbers to month names with year 2024 in the \"Month\" column\n",
    "df['Month'] = df['Month'].apply(lambda x: datetime(2023, x, 1).strftime('%B - %Y'))\n",
    "\n",
    "# Display the first few rows to verify the changes\n",
    "df.head()\n"
   ]
  },
  {
   "cell_type": "code",
   "execution_count": 4,
   "metadata": {},
   "outputs": [
    {
     "data": {
      "text/html": [
       "<div>\n",
       "<style scoped>\n",
       "    .dataframe tbody tr th:only-of-type {\n",
       "        vertical-align: middle;\n",
       "    }\n",
       "\n",
       "    .dataframe tbody tr th {\n",
       "        vertical-align: top;\n",
       "    }\n",
       "\n",
       "    .dataframe thead th {\n",
       "        text-align: right;\n",
       "    }\n",
       "</style>\n",
       "<table border=\"1\" class=\"dataframe\">\n",
       "  <thead>\n",
       "    <tr style=\"text-align: right;\">\n",
       "      <th></th>\n",
       "      <th>Name of Patient</th>\n",
       "      <th>Month</th>\n",
       "      <th>Caregiver Name</th>\n",
       "      <th>Attendance Count</th>\n",
       "    </tr>\n",
       "  </thead>\n",
       "  <tbody>\n",
       "    <tr>\n",
       "      <th>0</th>\n",
       "      <td>Aarti/Hasmati devan</td>\n",
       "      <td>August - 2023</td>\n",
       "      <td>Felistas Wambui , Naomi Paul , Victoria Tijara</td>\n",
       "      <td>1, 3, 27</td>\n",
       "    </tr>\n",
       "    <tr>\n",
       "      <th>1</th>\n",
       "      <td>Abuod Abdalla/Dalila</td>\n",
       "      <td>August - 2023</td>\n",
       "      <td>Nora Mukuhi Kimani , Zilda Wakesho , Jacquelyn...</td>\n",
       "      <td>2, 5, 2</td>\n",
       "    </tr>\n",
       "    <tr>\n",
       "      <th>2</th>\n",
       "      <td>Amrat Shah/Niraj Shah</td>\n",
       "      <td>August - 2023</td>\n",
       "      <td>Sylvier Mercy , Stella Awonda</td>\n",
       "      <td>19, 14</td>\n",
       "    </tr>\n",
       "    <tr>\n",
       "      <th>3</th>\n",
       "      <td>Amritaben</td>\n",
       "      <td>August - 2023</td>\n",
       "      <td>Elizabeth Mwihaki , Emmadiana Maina , Esther N...</td>\n",
       "      <td>9, 5, 22, 26</td>\n",
       "    </tr>\n",
       "    <tr>\n",
       "      <th>4</th>\n",
       "      <td>Arama lifestyle</td>\n",
       "      <td>August - 2023</td>\n",
       "      <td>Venalize Wakhungu , Lorna Kairu , Laura Vuguts...</td>\n",
       "      <td>25, 28, 1, 27, 2</td>\n",
       "    </tr>\n",
       "  </tbody>\n",
       "</table>\n",
       "</div>"
      ],
      "text/plain": [
       "         Name of Patient          Month  \\\n",
       "0    Aarti/Hasmati devan  August - 2023   \n",
       "1   Abuod Abdalla/Dalila  August - 2023   \n",
       "2  Amrat Shah/Niraj Shah  August - 2023   \n",
       "3              Amritaben  August - 2023   \n",
       "4        Arama lifestyle  August - 2023   \n",
       "\n",
       "                                      Caregiver Name  Attendance Count  \n",
       "0     Felistas Wambui , Naomi Paul , Victoria Tijara          1, 3, 27  \n",
       "1  Nora Mukuhi Kimani , Zilda Wakesho , Jacquelyn...           2, 5, 2  \n",
       "2                      Sylvier Mercy , Stella Awonda            19, 14  \n",
       "3  Elizabeth Mwihaki , Emmadiana Maina , Esther N...      9, 5, 22, 26  \n",
       "4  Venalize Wakhungu , Lorna Kairu , Laura Vuguts...  25, 28, 1, 27, 2  "
      ]
     },
     "execution_count": 4,
     "metadata": {},
     "output_type": "execute_result"
    }
   ],
   "source": [
    "# Remove square brackets from the \"Attendance Count\" column\n",
    "df['Attendance Count'] = df['Attendance Count'].str.replace(r'[\\[\\]]', '', regex=True)\n",
    "\n",
    "# Display the first few rows to verify the changes\n",
    "df.head()\n"
   ]
  },
  {
   "cell_type": "code",
   "execution_count": 5,
   "metadata": {},
   "outputs": [],
   "source": [
    "df1=df.copy()"
   ]
  },
  {
   "cell_type": "code",
   "execution_count": 6,
   "metadata": {},
   "outputs": [
    {
     "data": {
      "text/plain": [
       "Name of Patient     0\n",
       "Month               0\n",
       "Caregiver Name      0\n",
       "Attendance Count    0\n",
       "dtype: int64"
      ]
     },
     "execution_count": 6,
     "metadata": {},
     "output_type": "execute_result"
    }
   ],
   "source": [
    "df1.isnull().sum()"
   ]
  },
  {
   "cell_type": "code",
   "execution_count": 7,
   "metadata": {},
   "outputs": [],
   "source": [
    "# Save the result to a CSV\n",
    "output_path = '2024 - August-2024-Primary-Rota123.csv'\n",
    "df1.to_csv(output_path, index=False)"
   ]
  },
  {
   "cell_type": "code",
   "execution_count": null,
   "metadata": {},
   "outputs": [],
   "source": []
  }
 ],
 "metadata": {
  "kernelspec": {
   "display_name": "base",
   "language": "python",
   "name": "python3"
  },
  "language_info": {
   "codemirror_mode": {
    "name": "ipython",
    "version": 3
   },
   "file_extension": ".py",
   "mimetype": "text/x-python",
   "name": "python",
   "nbconvert_exporter": "python",
   "pygments_lexer": "ipython3",
   "version": "3.11.7"
  }
 },
 "nbformat": 4,
 "nbformat_minor": 2
}
